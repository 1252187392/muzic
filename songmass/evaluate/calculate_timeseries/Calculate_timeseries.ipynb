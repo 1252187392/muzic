{
 "cells": [
  {
   "cell_type": "code",
   "execution_count": 2,
   "metadata": {},
   "outputs": [],
   "source": [
    "# 计算两个歌曲音符序列的DTW\n",
    "import io\n",
    "import os\n",
    "import shutil\n",
    "from dtw import dtw,accelerated_dtw\n",
    "import numpy as np\n",
    "from tqdm import tqdm\n",
    "\n",
    "# output_dir = 'l2m'"
   ]
  },
  {
   "cell_type": "code",
   "execution_count": 3,
   "metadata": {},
   "outputs": [],
   "source": [
    "SEP = '[sep]'\n",
    "ALIGN = '[align]'\n",
    "beam = 5"
   ]
  },
  {
   "cell_type": "code",
   "execution_count": 4,
   "metadata": {},
   "outputs": [],
   "source": [
    "input_lyric_file = '/home/dwj/data/code/model_modify/zhonghao/data/para/test.lyric'\n",
    "ground_truth_melody_file = '/home/dwj/data/code/model_modify/zhonghao/data/para/test.melody'\n",
    "generate_melody_file = '/home/dwj/data/code/model_modify/zhonghao/generate/l2m/result/2021_7_7_test.log'\n",
    "song_id_file = '/home/dwj/data/code/model_modify/zhonghao/data/para/test_song_id.txt'\n",
    "\n",
    "generated_file = True\n",
    "get_last = True\n",
    "find_structure = True\n",
    "cut_exceed_sent = True"
   ]
  },
  {
   "cell_type": "code",
   "execution_count": 5,
   "metadata": {},
   "outputs": [],
   "source": [
    "def get_pitch_duration_structure(note_seq):\n",
    "    seq = []\n",
    "    \n",
    "    #遍历寻找pitch-duration的结构\n",
    "    #当有不合法情况出现时，找最后一个pitch和第一个duration，保证其相邻\n",
    "    #p1 d1 p2 p3 d2 p4 d3-> p1 d1 p3 d1 p4 d3\n",
    "    #p1 d1 p2 d2 d3 p3 d4-> p1 d1 p2 d2 p3 d4\n",
    "    #p1 d1 p2 p3 d2 d3 p4 d4 -> p1 d1 p3 d2 p4 d4\n",
    "    \n",
    "    i = 0\n",
    "    while (i<len(note_seq)):\n",
    "        if note_seq[i] > 128:\n",
    "            #Duration\n",
    "            i += 1\n",
    "            continue\n",
    "        else:\n",
    "            #Pitch\n",
    "            if i+1>=len(note_seq):\n",
    "                #No Duration Followed\n",
    "                break\n",
    "            if note_seq[i+1] <= 128:\n",
    "                #Followed by a pitch\n",
    "                i += 1\n",
    "                continue\n",
    "            \n",
    "            #Followed by a duration\n",
    "#             pitch = note_seq[i]\n",
    "#             duration = float(Duration_vocab[note_seq[i+1]])\n",
    "            \n",
    "            #Here trans back to str for bleu calculate\n",
    "            pitch = str(note_seq[i])\n",
    "            duration = str(note_seq[i+1])\n",
    "            \n",
    "            seq.append(pitch)\n",
    "            seq.append(duration)\n",
    "            i += 2\n",
    "    return seq"
   ]
  },
  {
   "cell_type": "code",
   "execution_count": 6,
   "metadata": {},
   "outputs": [],
   "source": [
    "# 输入带有[SEP]的序列，分割句子\n",
    "def separate_sentences(x,find_structure = False):\n",
    "    lst = x.copy()\n",
    "    sep_positions = [i for i,x in enumerate(lst) if x==SEP]\n",
    "    sep_positions.insert(0,-1)\n",
    "\n",
    "    ret = []\n",
    "    for i in range(len(sep_positions)-1):\n",
    "        sent = lst[sep_positions[i]+1:sep_positions[i+1]] #SZH: not include sep token\n",
    "        if find_structure:\n",
    "            sent = list(map(int, sent))\n",
    "            sent = get_pitch_duration_structure(sent)\n",
    "        ret.append(sent)\n",
    "    return ret"
   ]
  },
  {
   "cell_type": "code",
   "execution_count": 7,
   "metadata": {},
   "outputs": [],
   "source": [
    "#输入文件得到歌曲的pitch-duration序列\n",
    "# generated_file : 是否为fairseq输出的结果内容， false为数据集\n",
    "# getlast : 序列不是以[SEP]结尾时最后一个sep之后的内容要不要\n",
    "# finde_structure : 是否调用get_pitch_duration_structure保证pitch-duration结构\n",
    "# cut_exceed_sent : 当预测的句子超过歌词句子数时是否丢弃多的句子\n",
    "def get_songs(file, generated_file = False, get_last = False, find_structure = False, cut_exceed_sent=False):\n",
    "    \"\"\"\n",
    "    Get Last : Whether include the last tokens if the sequence not ends with a seperation token\n",
    "    \"\"\"\n",
    "    with io.open(input_lyric_file,'r') as f:\n",
    "        input_lyrics= f.readlines()\n",
    "    input_lyrics = list(map(lambda x:x.rstrip('\\n').split(' '), input_lyrics))\n",
    "    input_lyrics_sent_num = list(map(lambda x:x.count(SEP), input_lyrics))\n",
    "    \n",
    "    with io.open(song_id_file,'r') as f:\n",
    "        song_ids = f.readlines()\n",
    "    song_ids = list(map(lambda x:int(x.rstrip('\\n')),song_ids))   \n",
    "    \n",
    "    with io.open(file,'r') as f:\n",
    "        melody_lines = f.readlines()\n",
    "        if generated_file:\n",
    "            melody_lines = list(filter(lambda x:x.startswith('H-'), melody_lines))\n",
    "            if len(melody_lines) == len(input_lyrics) * beam:\n",
    "                melody_lines.sort( key=lambda x:(int(x.split('\\t')[0].split('-')[1]), -float(x.split('\\t')[1]) ) )\n",
    "                melody_lines = [ x for i,x in enumerate(melody_lines) if i%beam == 0 ]\n",
    "            else:    \n",
    "                melody_lines.sort( key=lambda x:int(x.split('\\t')[0].split('-')[1]) )\n",
    "    melody_lines = list(map(lambda x:x.rstrip('\\n').split('\\t')[-1] ,melody_lines))\n",
    "            \n",
    "    print(len(melody_lines), len(input_lyrics))\n",
    "    assert len(melody_lines)==len(input_lyrics)\n",
    "    \n",
    "    melody_seqs = list(map(lambda x:x.rstrip('\\n').split(' '),melody_lines))\n",
    "    melody_seqs = [ch for ch in melody_seqs if ch != ALIGN]\n",
    "    \n",
    "    for i in range(len(melody_seqs)):\n",
    "        melody_seqs[i] = list(filter(lambda x:x.isdigit() or x==SEP, melody_seqs[i]))\n",
    "        \n",
    "    if get_last:\n",
    "        for i in range(len(melody_seqs)):\n",
    "            if melody_seqs[i][-1] != SEP:\n",
    "                melody_seqs[i].append(SEP)\n",
    "          \n",
    "    # 分句子，同时find structure\n",
    "    melody_seq_sents = list(map(lambda x:separate_sentences(x,find_structure=find_structure), melody_seqs))\n",
    "\n",
    "    \n",
    "    # 把句子组合回整首歌，同时切除过多的句子\n",
    "    return_list = []\n",
    "    for i,sent_seq in enumerate(melody_seq_sents):\n",
    "        if cut_exceed_sent and len(sent_seq) > input_lyrics_sent_num[i]:\n",
    "            sent_seq = sent_seq[0:input_lyrics_sent_num[i]]\n",
    "        cur_song_return = []\n",
    "\n",
    "        for j,sent in enumerate(sent_seq):\n",
    "            cur_song_return.extend(sent)\n",
    "            cur_song_return.append(SEP)\n",
    "        return_list.append(cur_song_return)\n",
    "      \n",
    "\n",
    "    # 整合回歌\n",
    "    song_num = song_ids[-1] + 1\n",
    "    songs = [ [] for _ in range(song_num)]\n",
    "    for item_id,song_id in enumerate(song_ids):\n",
    "        songs[song_id].extend(return_list[item_id])\n",
    "    \n",
    "    return songs\n",
    "            \n"
   ]
  },
  {
   "cell_type": "code",
   "execution_count": 8,
   "metadata": {},
   "outputs": [
    {
     "output_type": "stream",
     "name": "stdout",
     "text": [
      "714 714\n"
     ]
    }
   ],
   "source": [
    "ground_truth_melody = get_songs(ground_truth_melody_file)"
   ]
  },
  {
   "cell_type": "code",
   "execution_count": 9,
   "metadata": {},
   "outputs": [
    {
     "output_type": "stream",
     "name": "stdout",
     "text": [
      "714 714\n"
     ]
    }
   ],
   "source": [
    "output_melodies = get_songs(generate_melody_file, generated_file, get_last, find_structure, cut_exceed_sent)"
   ]
  },
  {
   "cell_type": "code",
   "execution_count": 10,
   "metadata": {},
   "outputs": [],
   "source": [
    "def to_tuple(x):\n",
    "    pitch_and_duration = [ch for ch in x if ch != SEP and ch != ALIGN]\n",
    "    return [(pitch_and_duration[2*i], pitch_and_duration[2*i+1]) for i in range(len(pitch_and_duration)//2)]\n",
    "ground_truth_melody = list(map(to_tuple, ground_truth_melody))\n",
    "output_melodies = list(map(to_tuple, output_melodies))"
   ]
  },
  {
   "cell_type": "code",
   "execution_count": null,
   "metadata": {},
   "outputs": [],
   "source": []
  },
  {
   "cell_type": "code",
   "execution_count": null,
   "metadata": {},
   "outputs": [],
   "source": []
  },
  {
   "cell_type": "code",
   "execution_count": 11,
   "metadata": {},
   "outputs": [
    {
     "output_type": "stream",
     "name": "stdout",
     "text": [
      "{'129': 0.25, '130': 0.5, '131': 0.75, '132': 1.0, '133': 1.25, '134': 1.5, '135': 1.75, '136': 2.0, '137': 2.25, '138': 2.5, '139': 2.75, '140': 3.0, '141': 3.25, '142': 3.5, '143': 3.75, '144': 4.0, '145': 4.25, '146': 4.5, '147': 4.75, '148': 5.0, '149': 5.25, '150': 5.5, '151': 5.75, '152': 6.0, '153': 6.25, '154': 6.5, '155': 6.75, '156': 7.0, '157': 7.25, '158': 7.5, '159': 7.75, '160': 8.0, '161': 8.25, '162': 8.5, '163': 8.75, '164': 9.0, '165': 9.25, '166': 9.5, '167': 9.75, '168': 10.0, '169': 10.25, '170': 10.5, '171': 10.75, '172': 11.0, '173': 11.25, '174': 11.5, '175': 11.75, '176': 12.0, '177': 12.25, '178': 12.5, '179': 12.75, '180': 13.0, '181': 13.25, '182': 13.5, '183': 13.75, '184': 14.0, '185': 14.25, '186': 14.5, '187': 14.75, '188': 15.0, '189': 15.25, '190': 15.5, '191': 15.75, '192': 16.0, '193': 16.25, '194': 16.5, '195': 16.75, '196': 17.0, '197': 17.25, '198': 17.5, '199': 17.75, '200': 18.0, '201': 18.25, '202': 18.5, '203': 18.75, '204': 19.0, '205': 19.25, '206': 19.5, '207': 19.75, '208': 20.0, '209': 20.25, '210': 20.5, '211': 20.75, '212': 21.0, '213': 21.25, '214': 21.5, '215': 21.75, '216': 22.0, '217': 22.25, '218': 22.5, '219': 22.75, '220': 23.0, '221': 23.25, '222': 23.5, '223': 23.75, '224': 24.0, '225': 24.25, '226': 24.5, '227': 24.75, '228': 25.0, '229': 25.25, '230': 25.5, '231': 25.75, '232': 26.0, '233': 26.25, '234': 26.5, '235': 26.75, '236': 27.0, '237': 27.25, '238': 27.5, '239': 27.75, '240': 28.0, '241': 28.25, '242': 28.5, '243': 28.75, '244': 29.0, '245': 29.25, '246': 29.5, '247': 29.75, '248': 30.0, '249': 30.25, '250': 30.5, '251': 30.75, '252': 31.0, '253': 31.25, '254': 31.5, '255': 31.75, '256': 32.0, '257': 32.25, '258': 32.5, '259': 32.75, '260': 33.0}\n"
     ]
    }
   ],
   "source": [
    "# Duration_vocab = dict([(str(x/100),129+i)  for i,x in enumerate(list(range(25,3325,25)))])\n",
    "Duration_vocab = dict([(str(129+i), x/100)  for i,x in enumerate(list(range(25,3325,25)))])\n",
    "print(Duration_vocab)"
   ]
  },
  {
   "cell_type": "code",
   "execution_count": 12,
   "metadata": {},
   "outputs": [],
   "source": [
    "# pitch按时长不拍，比如 64 0.25 65 0.5 67 1 铺开成 64 65 65 67 67 67 67\n",
    "def flatten(note_seq, ign_rest = False):\n",
    "    ret = []\n",
    "    for note in note_seq:\n",
    "        pitch = int(note[0])\n",
    "        duration = Duration_vocab[note[1]]\n",
    "        if pitch==128:\n",
    "            if ign_rest : continue\n",
    "            if len(ret)==0: continue\n",
    "            ret.extend( [ ret[-1] ] * int(duration*4)  )\n",
    "        else:\n",
    "            ret.extend( [pitch] * int(duration*4) )\n",
    "    return ret\n",
    "\n",
    "# 音高序列采样\n",
    "def sample(flat_note_seq, freq = 2):\n",
    "    # 1/32 -> 1\n",
    "    # 1/16 -> 2\n",
    "    return [ flat_note_seq[i*freq] for i in range(len(flat_note_seq)//freq)  ]\n",
    "\n",
    "# 将pith序列转化为和每个pitch之前一个pitch的相对音高\n",
    "def grad(flat_note_seq):\n",
    "    if len(flat_note_seq)==0:\n",
    "        return []\n",
    "    ret = flat_note_seq.copy()\n",
    "    for i in range(len(ret)-1,0,-1):\n",
    "        ret[i] = ret[i] - ret[i-1]\n",
    "    ret[0] = 0\n",
    "    return ret\n",
    "\n"
   ]
  },
  {
   "cell_type": "code",
   "execution_count": null,
   "metadata": {},
   "outputs": [],
   "source": []
  },
  {
   "cell_type": "code",
   "execution_count": 13,
   "metadata": {},
   "outputs": [],
   "source": [
    "ground_truth_flat = list(map(flatten, ground_truth_melody))\n",
    "output_melody_flat = list(map(flatten, output_melodies))"
   ]
  },
  {
   "cell_type": "code",
   "execution_count": 14,
   "metadata": {},
   "outputs": [],
   "source": [
    "ground_truth_samp=list(map(sample,ground_truth_flat))\n",
    "output_melody_samp=list(map(sample,output_melody_flat))"
   ]
  },
  {
   "cell_type": "code",
   "execution_count": 15,
   "metadata": {},
   "outputs": [],
   "source": [
    "ground_truth_grad=list(map(grad,ground_truth_samp))\n",
    "output_melody_grad=list(map(grad,output_melody_samp))"
   ]
  },
  {
   "cell_type": "code",
   "execution_count": null,
   "metadata": {},
   "outputs": [],
   "source": [
    "# 几种计算方式"
   ]
  },
  {
   "cell_type": "code",
   "execution_count": 16,
   "metadata": {},
   "outputs": [
    {
     "output_type": "stream",
     "name": "stderr",
     "text": [
      "100%|██████████| 461/461 [03:47<00:00,  2.03it/s]\n"
     ]
    }
   ],
   "source": [
    "dtw_samp = []\n",
    "for i in tqdm(range(len(ground_truth_samp))):\n",
    "    if len(ground_truth_samp[i])==0 or len(output_melody_samp[i])==0: continue\n",
    "    d1 = np.array(ground_truth_samp[i]).reshape(-1,1)\n",
    "    d2 = np.array(output_melody_samp[i]).reshape(-1,1)\n",
    "    d, cost_matrix, acc_cost_matrix, path = accelerated_dtw(d1,d2, dist='euclidean')\n",
    "    dtw_samp.append(d / len(d2))"
   ]
  },
  {
   "cell_type": "code",
   "execution_count": 17,
   "metadata": {},
   "outputs": [
    {
     "output_type": "execute_result",
     "data": {
      "text/plain": [
       "4.218924596978432"
      ]
     },
     "metadata": {},
     "execution_count": 17
    }
   ],
   "source": [
    "sum(dtw_samp)/len(dtw_samp)"
   ]
  },
  {
   "cell_type": "code",
   "execution_count": null,
   "metadata": {},
   "outputs": [],
   "source": []
  },
  {
   "cell_type": "code",
   "execution_count": 18,
   "metadata": {},
   "outputs": [
    {
     "output_type": "stream",
     "name": "stderr",
     "text": [
      "100%|██████████| 461/461 [03:47<00:00,  2.02it/s]\n"
     ]
    }
   ],
   "source": [
    "dtw_grad = []\n",
    "for i in tqdm(range(len(ground_truth_grad))):\n",
    "    if len(ground_truth_grad[i])==0 or len(output_melody_grad[i])==0: continue\n",
    "    d1 = np.array(ground_truth_grad[i]).reshape(-1,1)\n",
    "    d2 = np.array(output_melody_grad[i]).reshape(-1,1)\n",
    "    d, cost_matrix, acc_cost_matrix, path = accelerated_dtw(d1,d2, dist='euclidean')\n",
    "    dtw_grad.append(d / len(d2))"
   ]
  },
  {
   "cell_type": "code",
   "execution_count": 19,
   "metadata": {},
   "outputs": [
    {
     "output_type": "execute_result",
     "data": {
      "text/plain": [
       "0.7069763255528089"
      ]
     },
     "metadata": {},
     "execution_count": 19
    }
   ],
   "source": [
    "sum(dtw_grad)/len(dtw_grad)"
   ]
  },
  {
   "cell_type": "code",
   "execution_count": null,
   "metadata": {},
   "outputs": [],
   "source": []
  },
  {
   "cell_type": "code",
   "execution_count": 20,
   "metadata": {
    "scrolled": true
   },
   "outputs": [
    {
     "output_type": "stream",
     "name": "stderr",
     "text": [
      "100%|██████████| 461/461 [03:42<00:00,  2.07it/s]\n"
     ]
    }
   ],
   "source": [
    "dtw_mean = []\n",
    "for i in tqdm(range(len(ground_truth_samp))):\n",
    "    if len(ground_truth_samp[i])==0 or len(output_melody_samp[i])==0: continue\n",
    "    d1 = np.array(ground_truth_samp[i]).reshape(-1,1)\n",
    "    d2 = np.array(output_melody_samp[i]).reshape(-1,1)\n",
    "    d1 = d1 - np.mean(d1)\n",
    "    d2 = d2 - np.mean(d2)\n",
    "    d, cost_matrix, acc_cost_matrix, path = accelerated_dtw(d1,d2, dist='euclidean')\n",
    "    dtw_mean.append(d / len(d2))"
   ]
  },
  {
   "cell_type": "code",
   "execution_count": 21,
   "metadata": {},
   "outputs": [
    {
     "output_type": "execute_result",
     "data": {
      "text/plain": [
       "2.9824720033086685"
      ]
     },
     "metadata": {},
     "execution_count": 21
    }
   ],
   "source": [
    "sum(dtw_mean)/len(dtw_mean)"
   ]
  },
  {
   "cell_type": "code",
   "execution_count": null,
   "metadata": {},
   "outputs": [],
   "source": [
    "# d1 = np.array(ground_truth_samp[0]).reshape(-1,1)\n",
    "# d2 = np.array(output_melody_samp[0]).reshape(-1,1)\n",
    "# d, cost_matrix, acc_cost_matrix, path = accelerated_dtw(d1,d2, dist='euclidean')"
   ]
  },
  {
   "cell_type": "code",
   "execution_count": null,
   "metadata": {},
   "outputs": [],
   "source": [
    "# d / len(d2)"
   ]
  },
  {
   "cell_type": "code",
   "execution_count": null,
   "metadata": {},
   "outputs": [],
   "source": [
    "# import matplotlib.pyplot as plt\n",
    "\n",
    "# plt.imshow(acc_cost_matrix.T, origin='lower', cmap='gray', interpolation='nearest')\n",
    "# plt.plot(path[0], path[1], 'w')\n",
    "# plt.show()"
   ]
  },
  {
   "cell_type": "code",
   "execution_count": null,
   "metadata": {},
   "outputs": [],
   "source": []
  },
  {
   "cell_type": "code",
   "execution_count": null,
   "metadata": {},
   "outputs": [],
   "source": [
    "# from collections import defaultdict\n",
    "# cnt = defaultdict(int)\n",
    "# for song in ground_truth_melody:\n",
    "#     for note in song:\n",
    "#         cnt[note[1]]+=1"
   ]
  },
  {
   "cell_type": "code",
   "execution_count": null,
   "metadata": {},
   "outputs": [],
   "source": []
  }
 ],
 "metadata": {
  "kernelspec": {
   "name": "python3",
   "display_name": "Python 3.6.12 64-bit ('octuple_modify': conda)"
  },
  "language_info": {
   "codemirror_mode": {
    "name": "ipython",
    "version": 3
   },
   "file_extension": ".py",
   "mimetype": "text/x-python",
   "name": "python",
   "nbconvert_exporter": "python",
   "pygments_lexer": "ipython3",
   "version": "3.6.12"
  },
  "interpreter": {
   "hash": "c233ae448facdd60d9f8d5610560f178c9467de515247ce9a1e023374ac24371"
  }
 },
 "nbformat": 4,
 "nbformat_minor": 2
}