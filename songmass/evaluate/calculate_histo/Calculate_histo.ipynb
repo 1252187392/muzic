{
 "cells": [
  {
   "cell_type": "code",
   "execution_count": 37,
   "metadata": {},
   "outputs": [],
   "source": [
    "# 统计 pitch / duration分布直方图的overlap\n",
    "import io\n",
    "import os\n",
    "import shutil\n",
    "\n",
    "# output_dir = 'l2m'"
   ]
  },
  {
   "cell_type": "code",
   "execution_count": 38,
   "metadata": {},
   "outputs": [],
   "source": [
    "SEP = '[sep]'\n",
    "ALIGN = '[align]'\n",
    "beam = 5"
   ]
  },
  {
   "cell_type": "code",
   "execution_count": 39,
   "metadata": {},
   "outputs": [],
   "source": [
    "input_lyric_file = '/home/dwj/data/code/model_modify/zhonghao/songmass/data/test.lyric'\n",
    "ground_truth_melody_file = '/home/dwj/data/code/model_modify/zhonghao/songmass/data/test.melody'\n",
    "generate_melody_file = '/home/dwj/data/code/model_modify/zhonghao/songmass/generate/2021_7_7_test.log'\n",
    "song_id_file = '/home/dwj/data/code/model_modify/zhonghao/songmass/data/test_song_id.txt'\n",
    "generated_file = True\n",
    "get_last = True\n",
    "find_structure = True\n",
    "cut_exceed_sent = True"
   ]
  },
  {
   "cell_type": "code",
   "execution_count": 40,
   "metadata": {},
   "outputs": [],
   "source": [
    "def get_pitch_duration_structure(note_seq):\n",
    "    seq = []\n",
    "    \n",
    "    i = 0\n",
    "    while (i<len(note_seq)):\n",
    "        if note_seq[i] > 128:\n",
    "            #Duration\n",
    "            i += 1\n",
    "            continue\n",
    "        else:\n",
    "            #Pitch\n",
    "            if i+1>=len(note_seq):\n",
    "                #No Duration Followed\n",
    "                break\n",
    "            if note_seq[i+1] <= 128:\n",
    "                #Followed by a pitch\n",
    "                i += 1\n",
    "                continue\n",
    "            \n",
    "            #Followed by a duration\n",
    "#             pitch = note_seq[i]\n",
    "#             duration = float(Duration_vocab[note_seq[i+1]])\n",
    "            \n",
    "            #Here trans back to str for bleu calculate\n",
    "            pitch = str(note_seq[i])\n",
    "            duration = str(note_seq[i+1])\n",
    "            \n",
    "            seq.append(pitch)\n",
    "            seq.append(duration)\n",
    "            i += 2\n",
    "    return seq"
   ]
  },
  {
   "cell_type": "code",
   "execution_count": 41,
   "metadata": {},
   "outputs": [],
   "source": [
    "def separate_sentences(x,find_structure = False):\n",
    "    lst = x.copy()\n",
    "    sep_positions = [i for i,x in enumerate(lst) if x==SEP]\n",
    "    sep_positions.insert(0,-1)\n",
    "\n",
    "    ret = []\n",
    "    for i in range(len(sep_positions)-1):\n",
    "        sent = lst[sep_positions[i]+1:sep_positions[i+1]] #SZH: not include sep token\n",
    "        if find_structure:\n",
    "            sent = list(map(int, sent))\n",
    "            sent = get_pitch_duration_structure(sent)\n",
    "        ret.append(sent)\n",
    "    return ret"
   ]
  },
  {
   "cell_type": "code",
   "execution_count": 42,
   "metadata": {},
   "outputs": [],
   "source": [
    "def get_songs(file, generated_file = False, get_last = False, find_structure = False, cut_exceed_sent=False):\n",
    "    \"\"\"\n",
    "    Get Last : Whether include the last tokens if the sequence not ends with a seperation token\n",
    "    \"\"\"\n",
    "    with io.open(input_lyric_file,'r') as f:\n",
    "        input_lyrics= f.readlines()\n",
    "    input_lyrics = list(map(lambda x:x.rstrip('\\n').split(' '), input_lyrics))\n",
    "    input_lyrics_sent_num = list(map(lambda x:x.count(SEP), input_lyrics))\n",
    "    \n",
    "    with io.open(song_id_file,'r') as f:\n",
    "        song_ids = f.readlines()\n",
    "    song_ids = list(map(lambda x:int(x.rstrip('\\n')),song_ids))   \n",
    "    \n",
    "    with io.open(file,'r') as f:\n",
    "        melody_lines = f.readlines()\n",
    "        if generated_file:\n",
    "            melody_lines = list(filter(lambda x:x.startswith('H-'), melody_lines))\n",
    "            if len(melody_lines) == len(input_lyrics) * beam:\n",
    "                melody_lines.sort( key=lambda x:(int(x.split('\\t')[0].split('-')[1]), -float(x.split('\\t')[1]) ) )\n",
    "                melody_lines = [ x for i,x in enumerate(melody_lines) if i%beam == 0 ]\n",
    "            else:    \n",
    "                melody_lines.sort( key=lambda x:int(x.split('\\t')[0].split('-')[1]) )\n",
    "    melody_lines = list(map(lambda x:x.rstrip('\\n').split('\\t')[-1] ,melody_lines))\n",
    "            \n",
    "    print(len(melody_lines), len(input_lyrics))\n",
    "    assert len(melody_lines)==len(input_lyrics)\n",
    "    \n",
    "    melody_seqs = list(map(lambda x:x.rstrip('\\n').split(' '),melody_lines))\n",
    "    melody_seqs = [ch for ch in melody_seqs if ch != ALIGN]\n",
    "    for i in range(len(melody_seqs)):\n",
    "        melody_seqs[i] = list(filter(lambda x:x.isdigit() or x==SEP, melody_seqs[i]))\n",
    "        \n",
    "    if get_last:\n",
    "        for i in range(len(melody_seqs)):\n",
    "            if melody_seqs[i][-1] != SEP:\n",
    "                melody_seqs[i].append(SEP)\n",
    "    melody_seq_sents = list(map(lambda x:separate_sentences(x,find_structure=find_structure), melody_seqs))\n",
    "    return_list = []\n",
    "    for i,sent_seq in enumerate(melody_seq_sents):\n",
    "        if cut_exceed_sent and len(sent_seq) > input_lyrics_sent_num[i]:\n",
    "            sent_seq = sent_seq[0:input_lyrics_sent_num[i]]\n",
    "        cur_song_return = []\n",
    "\n",
    "        for j,sent in enumerate(sent_seq):\n",
    "            cur_song_return.extend(sent)\n",
    "            cur_song_return.append(SEP)\n",
    "        return_list.append(cur_song_return)\n",
    "    song_num = song_ids[-1] + 1\n",
    "    songs = [ [] for _ in range(song_num)]\n",
    "    for item_id,song_id in enumerate(song_ids):\n",
    "        songs[song_id].extend(return_list[item_id])\n",
    "    \n",
    "    return songs\n",
    "            "
   ]
  },
  {
   "cell_type": "code",
   "execution_count": 43,
   "metadata": {},
   "outputs": [
    {
     "output_type": "stream",
     "name": "stdout",
     "text": [
      "714 714\n"
     ]
    }
   ],
   "source": [
    "ground_truth_melody = get_songs(ground_truth_melody_file)"
   ]
  },
  {
   "cell_type": "code",
   "execution_count": 44,
   "metadata": {},
   "outputs": [
    {
     "output_type": "stream",
     "name": "stdout",
     "text": [
      "714 714\n"
     ]
    }
   ],
   "source": [
    "output_melodies = get_songs(generate_melody_file, generated_file, get_last, find_structure, cut_exceed_sent)"
   ]
  },
  {
   "cell_type": "code",
   "execution_count": null,
   "metadata": {},
   "outputs": [],
   "source": []
  },
  {
   "cell_type": "code",
   "execution_count": null,
   "metadata": {},
   "outputs": [],
   "source": []
  },
  {
   "cell_type": "code",
   "execution_count": 45,
   "metadata": {},
   "outputs": [],
   "source": [
    "def to_tuple(x):\n",
    "    pitch_and_duration = [ch for ch in x if ch != SEP and ch != ALIGN]\n",
    "    return [(pitch_and_duration[2*i], pitch_and_duration[2*i+1]) for i in range(len(pitch_and_duration)//2)]\n",
    "ground_truth_melody = list(map(to_tuple, ground_truth_melody))\n",
    "output_melodies = list(map(to_tuple, output_melodies))"
   ]
  },
  {
   "cell_type": "code",
   "execution_count": null,
   "metadata": {},
   "outputs": [],
   "source": []
  },
  {
   "cell_type": "code",
   "execution_count": null,
   "metadata": {},
   "outputs": [],
   "source": []
  },
  {
   "cell_type": "code",
   "execution_count": 46,
   "metadata": {},
   "outputs": [],
   "source": [
    "import numpy as np"
   ]
  },
  {
   "cell_type": "code",
   "execution_count": 47,
   "metadata": {},
   "outputs": [],
   "source": [
    "def get_pitch_count(x):\n",
    "    cnt = [0] * 129\n",
    "    for note in x:\n",
    "        cnt[int(note[0])] += 1\n",
    "    return np.array(cnt)\n",
    "   \n",
    "def get_duration_count(x):\n",
    "    cnt = [ 0 for i,x in enumerate(list(range(25,3325,25)))]\n",
    "    for note in x:\n",
    "        cnt[int(note[1])-129] += 1\n",
    "    return np.array(cnt)"
   ]
  },
  {
   "cell_type": "code",
   "execution_count": 48,
   "metadata": {},
   "outputs": [
    {
     "output_type": "stream",
     "name": "stdout",
     "text": [
      "0.511499088637353\n"
     ]
    }
   ],
   "source": [
    "# Pitch, 按歌曲, 算休止符\n",
    "pitch_overlap = 0\n",
    "\n",
    "for i in range(len(ground_truth_melody)):\n",
    "    pitch_cnt_ground = get_pitch_count(ground_truth_melody[i]) \n",
    "    pitch_cnt_generate = get_pitch_count(output_melodies[i])\n",
    "    sum_ground = np.sum(pitch_cnt_ground) if np.sum(pitch_cnt_ground) > 0 else 1\n",
    "    sum_generate = np.sum(pitch_cnt_generate) if np.sum(pitch_cnt_generate) > 0 else 1\n",
    "    \n",
    "    pitch_dist_ground = pitch_cnt_ground.astype(np.float32) /sum_ground\n",
    "    pitch_dist_generate = pitch_cnt_generate.astype(np.float32) /sum_generate\n",
    "    \n",
    "    pitch_diff = np.abs(pitch_dist_ground - pitch_dist_generate)\n",
    "    pitch_overlap_sent = (pitch_dist_ground + pitch_dist_generate - pitch_diff)/2\n",
    "    \n",
    "    pitch_overlap += np.sum(pitch_overlap_sent)\n",
    "    \n",
    "print(pitch_overlap/len(ground_truth_melody))"
   ]
  },
  {
   "cell_type": "code",
   "execution_count": null,
   "metadata": {},
   "outputs": [],
   "source": []
  },
  {
   "cell_type": "code",
   "execution_count": 50,
   "metadata": {},
   "outputs": [
    {
     "output_type": "stream",
     "name": "stdout",
     "text": [
      "0.6371850577746709\n"
     ]
    }
   ],
   "source": [
    "# Duration 按歌曲, 算休止符\n",
    "duration_overlap = 0\n",
    "\n",
    "for i in range(len(ground_truth_melody)):\n",
    "    duration_cnt_ground = get_duration_count(ground_truth_melody[i]) \n",
    "    duration_cnt_generate = get_duration_count(output_melodies[i])\n",
    "    \n",
    "    sum_ground = np.sum(duration_cnt_ground) if np.sum(duration_cnt_ground) > 0 else 1\n",
    "    sum_generate = np.sum(duration_cnt_generate) if np.sum(duration_cnt_generate) > 0 else 1\n",
    "    \n",
    "    duration_dist_ground = duration_cnt_ground.astype(np.float32) /sum_ground\n",
    "    duration_dist_generate = duration_cnt_generate.astype(np.float32) /sum_generate\n",
    "    \n",
    "    duration_diff = np.abs(duration_dist_ground - duration_dist_generate)\n",
    "    duration_overlap_sent = (duration_dist_ground + duration_dist_generate - duration_diff)/2\n",
    "    \n",
    "    duration_overlap += np.sum(duration_overlap_sent)\n",
    "    \n",
    "print(duration_overlap/len(ground_truth_melody))"
   ]
  },
  {
   "cell_type": "code",
   "execution_count": null,
   "metadata": {},
   "outputs": [],
   "source": []
  },
  {
   "cell_type": "code",
   "execution_count": null,
   "metadata": {},
   "outputs": [],
   "source": []
  },
  {
   "cell_type": "code",
   "execution_count": null,
   "metadata": {},
   "outputs": [],
   "source": []
  },
  {
   "cell_type": "code",
   "execution_count": null,
   "metadata": {},
   "outputs": [],
   "source": []
  },
  {
   "cell_type": "code",
   "execution_count": null,
   "metadata": {},
   "outputs": [],
   "source": []
  }
 ],
 "metadata": {
  "kernelspec": {
   "name": "python3",
   "display_name": "Python 3.6.12 64-bit ('octuple_modify': conda)"
  },
  "language_info": {
   "codemirror_mode": {
    "name": "ipython",
    "version": 3
   },
   "file_extension": ".py",
   "mimetype": "text/x-python",
   "name": "python",
   "nbconvert_exporter": "python",
   "pygments_lexer": "ipython3",
   "version": "3.6.12"
  },
  "interpreter": {
   "hash": "c233ae448facdd60d9f8d5610560f178c9467de515247ce9a1e023374ac24371"
  }
 },
 "nbformat": 4,
 "nbformat_minor": 2
}