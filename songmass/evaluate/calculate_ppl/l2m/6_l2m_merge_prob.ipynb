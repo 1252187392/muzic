{
 "cells": [
  {
   "cell_type": "code",
   "execution_count": 1,
   "metadata": {},
   "outputs": [],
   "source": [
    "import io\n",
    "import numpy as np\n",
    "import scipy.linalg\n",
    "import os\n",
    "import shutil\n",
    "\n",
    "input_folder = 'l2m'\n",
    "output_folder = 'l2m_merge'\n",
    "if os.path.exists(output_folder):\n",
    "    shutil.rmtree(output_folder)\n",
    "os.makedirs(output_folder)\n"
   ]
  },
  {
   "cell_type": "code",
   "execution_count": 5,
   "metadata": {},
   "outputs": [
    {
     "output_type": "execute_result",
     "data": {
      "text/plain": [
       "'/data/dwj/code/m2l/zhonghao/music_align/gen_prob'"
      ]
     },
     "metadata": {},
     "execution_count": 5
    }
   ],
   "source": [
    "pwd"
   ]
  },
  {
   "cell_type": "code",
   "execution_count": 2,
   "metadata": {},
   "outputs": [],
   "source": [
    "with io.open('/home/dwj/data/code/model_modify/zhonghao/songmass/data/test_song_id.txt') as f:\n",
    "    split_to_songid = f.readlines()\n",
    "split_to_songid = list(map(lambda x:int(x.rstrip('\\n')),split_to_songid))"
   ]
  },
  {
   "cell_type": "code",
   "execution_count": 3,
   "metadata": {},
   "outputs": [],
   "source": [
    "from collections import defaultdict\n",
    "songid_to_split = defaultdict(list)"
   ]
  },
  {
   "cell_type": "code",
   "execution_count": 4,
   "metadata": {},
   "outputs": [],
   "source": [
    "for split_id, song_id in enumerate(split_to_songid):\n",
    "    songid_to_split[song_id].append(split_id)"
   ]
  },
  {
   "cell_type": "code",
   "execution_count": 5,
   "metadata": {},
   "outputs": [],
   "source": [
    "# 歌词/旋律\n",
    "for song_id in songid_to_split.keys():\n",
    "    song_folder = os.path.join(output_folder, str(song_id))\n",
    "    os.makedirs(song_folder)\n",
    "    all_lyric = []\n",
    "    all_melody = []\n",
    "    for split_id in songid_to_split[song_id]:\n",
    "        with io.open(os.path.join(input_folder, str(split_id), 'train.lyric'), 'r') as f:\n",
    "            lyric = f.read().rstrip('\\n').split(' ')\n",
    "        all_lyric.extend(lyric)\n",
    "        with io.open(os.path.join(input_folder, str(split_id), 'train.melody'), 'r') as f:\n",
    "            melody = f.read().rstrip('\\n').split(' ')\n",
    "        all_melody.extend(melody)\n",
    "    with io.open(os.path.join(song_folder, 'lyric'), 'w') as f:\n",
    "        f.write(\" \".join(all_lyric))\n",
    "    with io.open(os.path.join(song_folder, 'melody'), 'w') as f:\n",
    "        f.write(\" \".join(all_melody))"
   ]
  },
  {
   "cell_type": "code",
   "execution_count": 6,
   "metadata": {},
   "outputs": [],
   "source": [
    "for song_id in songid_to_split.keys():\n",
    "    song_folder = os.path.join(output_folder, str(song_id))\n",
    "    prob_arr = None\n",
    "    for split_id in songid_to_split[song_id]:\n",
    "        with io.open(os.path.join(input_folder, str(split_id), 'prob.txt'), 'r') as f:\n",
    "            prob = eval(f.read().rstrip('\\n'))\n",
    "            if len(prob)<=1:\n",
    "                continue\n",
    "            if prob_arr is None:\n",
    "                prob_arr = prob[:-1]\n",
    "            else:\n",
    "                prob_arr.extend(prob[:-1])\n",
    "    with io.open(os.path.join(song_folder, 'prob'), 'w') as f:\n",
    "        f.write(str(prob_arr)) "
   ]
  },
  {
   "cell_type": "code",
   "execution_count": null,
   "metadata": {},
   "outputs": [],
   "source": []
  },
  {
   "cell_type": "code",
   "execution_count": null,
   "metadata": {},
   "outputs": [],
   "source": []
  },
  {
   "cell_type": "code",
   "execution_count": null,
   "metadata": {},
   "outputs": [],
   "source": []
  },
  {
   "cell_type": "code",
   "execution_count": null,
   "metadata": {},
   "outputs": [],
   "source": []
  },
  {
   "cell_type": "code",
   "execution_count": null,
   "metadata": {},
   "outputs": [],
   "source": []
  },
  {
   "cell_type": "code",
   "execution_count": null,
   "metadata": {},
   "outputs": [],
   "source": []
  }
 ],
 "metadata": {
  "kernelspec": {
   "name": "python3",
   "display_name": "Python 3.6.12 64-bit ('octuple_modify': conda)"
  },
  "language_info": {
   "codemirror_mode": {
    "name": "ipython",
    "version": 3
   },
   "file_extension": ".py",
   "mimetype": "text/x-python",
   "name": "python",
   "nbconvert_exporter": "python",
   "pygments_lexer": "ipython3",
   "version": "3.6.12"
  },
  "interpreter": {
   "hash": "c233ae448facdd60d9f8d5610560f178c9467de515247ce9a1e023374ac24371"
  }
 },
 "nbformat": 4,
 "nbformat_minor": 2
}