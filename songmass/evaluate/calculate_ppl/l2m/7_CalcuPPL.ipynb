{
 "cells": [
  {
   "cell_type": "code",
   "execution_count": 7,
   "metadata": {},
   "outputs": [],
   "source": [
    "# 输入模型给出的每个元素预测值的prob，计算ppl\n",
    "import io\n",
    "import os\n",
    "import math\n",
    "SEP = '[sep]'"
   ]
  },
  {
   "cell_type": "code",
   "execution_count": 8,
   "metadata": {},
   "outputs": [],
   "source": [
    "data_dir = 'l2m_merge'\n",
    "output_file = 'melody'\n",
    "\n",
    "prob_file = 'prob'"
   ]
  },
  {
   "cell_type": "code",
   "execution_count": 9,
   "metadata": {},
   "outputs": [],
   "source": [
    "def get_scores(d):\n",
    "    with io.open(os.path.join(d, output_file),'r') as f:\n",
    "        output_data = f.read().rstrip('\\n').split(' ')\n",
    "    with io.open(os.path.join(d, prob_file),'r') as f:\n",
    "        prob = eval(f.read().rstrip('\\n'))\n",
    "    return list(zip(output_data, prob))"
   ]
  },
  {
   "cell_type": "code",
   "execution_count": 10,
   "metadata": {},
   "outputs": [],
   "source": [
    "def cal_ppl(d):\n",
    "    if len(d)==0:\n",
    "        return math.inf\n",
    "    ppl = 1\n",
    "    for x in d:\n",
    "        ppl = ppl * (1/x[1])\n",
    "    ppl = pow(ppl, 1/len(d))\n",
    "    return ppl\n",
    "\n",
    "def cal_ppl_ignore_sep(d):\n",
    "    d = [item for item in d if item[0]!=SEP]\n",
    "    if len(d)==0:\n",
    "        return math.inf\n",
    "    ppl = 1\n",
    "    for x in d:\n",
    "        ppl = ppl * (1/x[1])\n",
    "    ppl = pow(ppl, 1/len(d))\n",
    "    return ppl"
   ]
  },
  {
   "cell_type": "code",
   "execution_count": null,
   "metadata": {},
   "outputs": [],
   "source": []
  },
  {
   "cell_type": "code",
   "execution_count": 11,
   "metadata": {},
   "outputs": [],
   "source": [
    "scores = []\n",
    "for song_id in os.listdir(data_dir):\n",
    "    score = get_scores(os.path.join(data_dir, song_id))\n",
    "    scores.append(score)"
   ]
  },
  {
   "cell_type": "code",
   "execution_count": 12,
   "metadata": {},
   "outputs": [],
   "source": [
    "ppls = list(map(cal_ppl, scores))\n",
    "ppls_ign = list(map(cal_ppl_ignore_sep, scores))"
   ]
  },
  {
   "cell_type": "code",
   "execution_count": null,
   "metadata": {},
   "outputs": [],
   "source": []
  },
  {
   "cell_type": "code",
   "execution_count": 13,
   "metadata": {},
   "outputs": [],
   "source": [
    "ppls = list(filter(lambda x:x!=math.inf, ppls))\n",
    "ppls_ign = list(filter(lambda x:x!=math.inf, ppls_ign))"
   ]
  },
  {
   "cell_type": "code",
   "execution_count": null,
   "metadata": {},
   "outputs": [],
   "source": []
  },
  {
   "cell_type": "code",
   "execution_count": 14,
   "metadata": {},
   "outputs": [],
   "source": [
    "# 过滤一些异常值\n",
    "if output_file=='melody':\n",
    "    ppls = list(filter(lambda x:x < 10, ppls))\n",
    "    ppls_ign = list(filter(lambda x:x<10, ppls_ign))\n",
    "else:\n",
    "    ppls = list(filter(lambda x:x < 150, ppls))\n",
    "    ppls_ign = list(filter(lambda x:x<150, ppls_ign))"
   ]
  },
  {
   "cell_type": "code",
   "execution_count": null,
   "metadata": {},
   "outputs": [],
   "source": []
  },
  {
   "cell_type": "code",
   "execution_count": null,
   "metadata": {},
   "outputs": [],
   "source": []
  },
  {
   "cell_type": "code",
   "execution_count": 15,
   "metadata": {},
   "outputs": [],
   "source": [
    "final_ppl = sum(ppls)/len(ppls)\n",
    "final_ppl_ign = sum(ppls_ign)/len(ppls_ign)"
   ]
  },
  {
   "cell_type": "code",
   "execution_count": null,
   "metadata": {},
   "outputs": [],
   "source": []
  },
  {
   "cell_type": "code",
   "execution_count": 16,
   "metadata": {},
   "outputs": [
    {
     "output_type": "stream",
     "name": "stdout",
     "text": [
      "2.1471606797489162 2.1079571307067133\n"
     ]
    }
   ],
   "source": [
    "print(final_ppl, final_ppl_ign)"
   ]
  },
  {
   "cell_type": "code",
   "execution_count": null,
   "metadata": {},
   "outputs": [],
   "source": []
  },
  {
   "cell_type": "code",
   "execution_count": 13,
   "metadata": {},
   "outputs": [
    {
     "output_type": "execute_result",
     "data": {
      "text/plain": [
       "428"
      ]
     },
     "metadata": {},
     "execution_count": 13
    }
   ],
   "source": [
    "len(ppls)"
   ]
  },
  {
   "cell_type": "code",
   "execution_count": 14,
   "metadata": {},
   "outputs": [
    {
     "output_type": "execute_result",
     "data": {
      "text/plain": [
       "2328.9840683033603"
      ]
     },
     "metadata": {},
     "execution_count": 14
    }
   ],
   "source": [
    "sum(ppls)"
   ]
  },
  {
   "cell_type": "code",
   "execution_count": 15,
   "metadata": {},
   "outputs": [
    {
     "output_type": "execute_result",
     "data": {
      "text/plain": [
       "428"
      ]
     },
     "metadata": {},
     "execution_count": 15
    }
   ],
   "source": [
    "len(ppls)"
   ]
  },
  {
   "cell_type": "code",
   "execution_count": 16,
   "metadata": {},
   "outputs": [
    {
     "output_type": "execute_result",
     "data": {
      "text/plain": [
       "5.44155156145645"
      ]
     },
     "metadata": {},
     "execution_count": 16
    }
   ],
   "source": [
    "sum(ppls)/len(ppls)"
   ]
  },
  {
   "cell_type": "code",
   "execution_count": null,
   "metadata": {},
   "outputs": [],
   "source": []
  }
 ],
 "metadata": {
  "kernelspec": {
   "name": "python3",
   "display_name": "Python 3.6.12 64-bit ('lstm_gan': conda)"
  },
  "language_info": {
   "codemirror_mode": {
    "name": "ipython",
    "version": 3
   },
   "file_extension": ".py",
   "mimetype": "text/x-python",
   "name": "python",
   "nbconvert_exporter": "python",
   "pygments_lexer": "ipython3",
   "version": "3.6.12"
  },
  "interpreter": {
   "hash": "2b34bc4a581cef2e53cc276f2d13b35259d7382b12daa0cfd6843e97bc20d07a"
  }
 },
 "nbformat": 4,
 "nbformat_minor": 2
}